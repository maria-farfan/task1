{
  "nbformat": 4,
  "nbformat_minor": 0,
  "metadata": {
    "colab": {
      "name": "Копия блокнота \"fact-cheking.ipynb\"",
      "provenance": [],
      "collapsed_sections": []
    },
    "kernelspec": {
      "name": "python3",
      "display_name": "Python 3"
    },
    "language_info": {
      "name": "python"
    },
    "widgets": {
      "application/vnd.jupyter.widget-state+json": {
        "03b060e690834b49836c35a433beeb82": {
          "model_module": "@jupyter-widgets/controls",
          "model_name": "HBoxModel",
          "state": {
            "_view_name": "HBoxView",
            "_dom_classes": [],
            "_model_name": "HBoxModel",
            "_view_module": "@jupyter-widgets/controls",
            "_model_module_version": "1.5.0",
            "_view_count": null,
            "_view_module_version": "1.5.0",
            "box_style": "",
            "layout": "IPY_MODEL_9e2cc38aa79843e49d2a86269347353c",
            "_model_module": "@jupyter-widgets/controls",
            "children": [
              "IPY_MODEL_4fa262cc355045289b2d1bc2a7edd035",
              "IPY_MODEL_9fdee5e5034e4fa5884cad10b4d17d7f"
            ]
          }
        },
        "9e2cc38aa79843e49d2a86269347353c": {
          "model_module": "@jupyter-widgets/base",
          "model_name": "LayoutModel",
          "state": {
            "_view_name": "LayoutView",
            "grid_template_rows": null,
            "right": null,
            "justify_content": null,
            "_view_module": "@jupyter-widgets/base",
            "overflow": null,
            "_model_module_version": "1.2.0",
            "_view_count": null,
            "flex_flow": null,
            "width": null,
            "min_width": null,
            "border": null,
            "align_items": null,
            "bottom": null,
            "_model_module": "@jupyter-widgets/base",
            "top": null,
            "grid_column": null,
            "overflow_y": null,
            "overflow_x": null,
            "grid_auto_flow": null,
            "grid_area": null,
            "grid_template_columns": null,
            "flex": null,
            "_model_name": "LayoutModel",
            "justify_items": null,
            "grid_row": null,
            "max_height": null,
            "align_content": null,
            "visibility": null,
            "align_self": null,
            "height": null,
            "min_height": null,
            "padding": null,
            "grid_auto_rows": null,
            "grid_gap": null,
            "max_width": null,
            "order": null,
            "_view_module_version": "1.2.0",
            "grid_template_areas": null,
            "object_position": null,
            "object_fit": null,
            "grid_auto_columns": null,
            "margin": null,
            "display": null,
            "left": null
          }
        },
        "4fa262cc355045289b2d1bc2a7edd035": {
          "model_module": "@jupyter-widgets/controls",
          "model_name": "FloatProgressModel",
          "state": {
            "_view_name": "ProgressView",
            "style": "IPY_MODEL_6199dec237524c488a868f459a709f43",
            "_dom_classes": [],
            "description": "Downloading: 100%",
            "_model_name": "FloatProgressModel",
            "bar_style": "success",
            "max": 642,
            "_view_module": "@jupyter-widgets/controls",
            "_model_module_version": "1.5.0",
            "value": 642,
            "_view_count": null,
            "_view_module_version": "1.5.0",
            "orientation": "horizontal",
            "min": 0,
            "description_tooltip": null,
            "_model_module": "@jupyter-widgets/controls",
            "layout": "IPY_MODEL_1586cc6c488b49cda1ea01ffca1bd15c"
          }
        },
        "9fdee5e5034e4fa5884cad10b4d17d7f": {
          "model_module": "@jupyter-widgets/controls",
          "model_name": "HTMLModel",
          "state": {
            "_view_name": "HTMLView",
            "style": "IPY_MODEL_57ab00dd354c4a9693878211426b188e",
            "_dom_classes": [],
            "description": "",
            "_model_name": "HTMLModel",
            "placeholder": "​",
            "_view_module": "@jupyter-widgets/controls",
            "_model_module_version": "1.5.0",
            "value": " 642/642 [00:00&lt;00:00, 923B/s]",
            "_view_count": null,
            "_view_module_version": "1.5.0",
            "description_tooltip": null,
            "_model_module": "@jupyter-widgets/controls",
            "layout": "IPY_MODEL_6e0c236965df4a95a59387e3b569a087"
          }
        },
        "6199dec237524c488a868f459a709f43": {
          "model_module": "@jupyter-widgets/controls",
          "model_name": "ProgressStyleModel",
          "state": {
            "_view_name": "StyleView",
            "_model_name": "ProgressStyleModel",
            "description_width": "initial",
            "_view_module": "@jupyter-widgets/base",
            "_model_module_version": "1.5.0",
            "_view_count": null,
            "_view_module_version": "1.2.0",
            "bar_color": null,
            "_model_module": "@jupyter-widgets/controls"
          }
        },
        "1586cc6c488b49cda1ea01ffca1bd15c": {
          "model_module": "@jupyter-widgets/base",
          "model_name": "LayoutModel",
          "state": {
            "_view_name": "LayoutView",
            "grid_template_rows": null,
            "right": null,
            "justify_content": null,
            "_view_module": "@jupyter-widgets/base",
            "overflow": null,
            "_model_module_version": "1.2.0",
            "_view_count": null,
            "flex_flow": null,
            "width": null,
            "min_width": null,
            "border": null,
            "align_items": null,
            "bottom": null,
            "_model_module": "@jupyter-widgets/base",
            "top": null,
            "grid_column": null,
            "overflow_y": null,
            "overflow_x": null,
            "grid_auto_flow": null,
            "grid_area": null,
            "grid_template_columns": null,
            "flex": null,
            "_model_name": "LayoutModel",
            "justify_items": null,
            "grid_row": null,
            "max_height": null,
            "align_content": null,
            "visibility": null,
            "align_self": null,
            "height": null,
            "min_height": null,
            "padding": null,
            "grid_auto_rows": null,
            "grid_gap": null,
            "max_width": null,
            "order": null,
            "_view_module_version": "1.2.0",
            "grid_template_areas": null,
            "object_position": null,
            "object_fit": null,
            "grid_auto_columns": null,
            "margin": null,
            "display": null,
            "left": null
          }
        },
        "57ab00dd354c4a9693878211426b188e": {
          "model_module": "@jupyter-widgets/controls",
          "model_name": "DescriptionStyleModel",
          "state": {
            "_view_name": "StyleView",
            "_model_name": "DescriptionStyleModel",
            "description_width": "",
            "_view_module": "@jupyter-widgets/base",
            "_model_module_version": "1.5.0",
            "_view_count": null,
            "_view_module_version": "1.2.0",
            "_model_module": "@jupyter-widgets/controls"
          }
        },
        "6e0c236965df4a95a59387e3b569a087": {
          "model_module": "@jupyter-widgets/base",
          "model_name": "LayoutModel",
          "state": {
            "_view_name": "LayoutView",
            "grid_template_rows": null,
            "right": null,
            "justify_content": null,
            "_view_module": "@jupyter-widgets/base",
            "overflow": null,
            "_model_module_version": "1.2.0",
            "_view_count": null,
            "flex_flow": null,
            "width": null,
            "min_width": null,
            "border": null,
            "align_items": null,
            "bottom": null,
            "_model_module": "@jupyter-widgets/base",
            "top": null,
            "grid_column": null,
            "overflow_y": null,
            "overflow_x": null,
            "grid_auto_flow": null,
            "grid_area": null,
            "grid_template_columns": null,
            "flex": null,
            "_model_name": "LayoutModel",
            "justify_items": null,
            "grid_row": null,
            "max_height": null,
            "align_content": null,
            "visibility": null,
            "align_self": null,
            "height": null,
            "min_height": null,
            "padding": null,
            "grid_auto_rows": null,
            "grid_gap": null,
            "max_width": null,
            "order": null,
            "_view_module_version": "1.2.0",
            "grid_template_areas": null,
            "object_position": null,
            "object_fit": null,
            "grid_auto_columns": null,
            "margin": null,
            "display": null,
            "left": null
          }
        },
        "54b0aa5f8f7845b5b50258c1ec5efee2": {
          "model_module": "@jupyter-widgets/controls",
          "model_name": "HBoxModel",
          "state": {
            "_view_name": "HBoxView",
            "_dom_classes": [],
            "_model_name": "HBoxModel",
            "_view_module": "@jupyter-widgets/controls",
            "_model_module_version": "1.5.0",
            "_view_count": null,
            "_view_module_version": "1.5.0",
            "box_style": "",
            "layout": "IPY_MODEL_96b5ec4a1f8f4673a38854d79918879e",
            "_model_module": "@jupyter-widgets/controls",
            "children": [
              "IPY_MODEL_83c9726ec24c4a0f931d266990e03f84",
              "IPY_MODEL_7c647c7164364ca488a6f153d91f6a75"
            ]
          }
        },
        "96b5ec4a1f8f4673a38854d79918879e": {
          "model_module": "@jupyter-widgets/base",
          "model_name": "LayoutModel",
          "state": {
            "_view_name": "LayoutView",
            "grid_template_rows": null,
            "right": null,
            "justify_content": null,
            "_view_module": "@jupyter-widgets/base",
            "overflow": null,
            "_model_module_version": "1.2.0",
            "_view_count": null,
            "flex_flow": null,
            "width": null,
            "min_width": null,
            "border": null,
            "align_items": null,
            "bottom": null,
            "_model_module": "@jupyter-widgets/base",
            "top": null,
            "grid_column": null,
            "overflow_y": null,
            "overflow_x": null,
            "grid_auto_flow": null,
            "grid_area": null,
            "grid_template_columns": null,
            "flex": null,
            "_model_name": "LayoutModel",
            "justify_items": null,
            "grid_row": null,
            "max_height": null,
            "align_content": null,
            "visibility": null,
            "align_self": null,
            "height": null,
            "min_height": null,
            "padding": null,
            "grid_auto_rows": null,
            "grid_gap": null,
            "max_width": null,
            "order": null,
            "_view_module_version": "1.2.0",
            "grid_template_areas": null,
            "object_position": null,
            "object_fit": null,
            "grid_auto_columns": null,
            "margin": null,
            "display": null,
            "left": null
          }
        },
        "83c9726ec24c4a0f931d266990e03f84": {
          "model_module": "@jupyter-widgets/controls",
          "model_name": "FloatProgressModel",
          "state": {
            "_view_name": "ProgressView",
            "style": "IPY_MODEL_4379ef19763141e48bc7dc03b430e258",
            "_dom_classes": [],
            "description": "Downloading: 100%",
            "_model_name": "FloatProgressModel",
            "bar_style": "success",
            "max": 1649718,
            "_view_module": "@jupyter-widgets/controls",
            "_model_module_version": "1.5.0",
            "value": 1649718,
            "_view_count": null,
            "_view_module_version": "1.5.0",
            "orientation": "horizontal",
            "min": 0,
            "description_tooltip": null,
            "_model_module": "@jupyter-widgets/controls",
            "layout": "IPY_MODEL_626ab523c3be4677ab5029287dd7a6ec"
          }
        },
        "7c647c7164364ca488a6f153d91f6a75": {
          "model_module": "@jupyter-widgets/controls",
          "model_name": "HTMLModel",
          "state": {
            "_view_name": "HTMLView",
            "style": "IPY_MODEL_aa78faa06fe243b69966f6b4aa7c3297",
            "_dom_classes": [],
            "description": "",
            "_model_name": "HTMLModel",
            "placeholder": "​",
            "_view_module": "@jupyter-widgets/controls",
            "_model_module_version": "1.5.0",
            "value": " 1.65M/1.65M [00:02&lt;00:00, 709kB/s]",
            "_view_count": null,
            "_view_module_version": "1.5.0",
            "description_tooltip": null,
            "_model_module": "@jupyter-widgets/controls",
            "layout": "IPY_MODEL_c797e684c1644b80aa428ad7a4475596"
          }
        },
        "4379ef19763141e48bc7dc03b430e258": {
          "model_module": "@jupyter-widgets/controls",
          "model_name": "ProgressStyleModel",
          "state": {
            "_view_name": "StyleView",
            "_model_name": "ProgressStyleModel",
            "description_width": "initial",
            "_view_module": "@jupyter-widgets/base",
            "_model_module_version": "1.5.0",
            "_view_count": null,
            "_view_module_version": "1.2.0",
            "bar_color": null,
            "_model_module": "@jupyter-widgets/controls"
          }
        },
        "626ab523c3be4677ab5029287dd7a6ec": {
          "model_module": "@jupyter-widgets/base",
          "model_name": "LayoutModel",
          "state": {
            "_view_name": "LayoutView",
            "grid_template_rows": null,
            "right": null,
            "justify_content": null,
            "_view_module": "@jupyter-widgets/base",
            "overflow": null,
            "_model_module_version": "1.2.0",
            "_view_count": null,
            "flex_flow": null,
            "width": null,
            "min_width": null,
            "border": null,
            "align_items": null,
            "bottom": null,
            "_model_module": "@jupyter-widgets/base",
            "top": null,
            "grid_column": null,
            "overflow_y": null,
            "overflow_x": null,
            "grid_auto_flow": null,
            "grid_area": null,
            "grid_template_columns": null,
            "flex": null,
            "_model_name": "LayoutModel",
            "justify_items": null,
            "grid_row": null,
            "max_height": null,
            "align_content": null,
            "visibility": null,
            "align_self": null,
            "height": null,
            "min_height": null,
            "padding": null,
            "grid_auto_rows": null,
            "grid_gap": null,
            "max_width": null,
            "order": null,
            "_view_module_version": "1.2.0",
            "grid_template_areas": null,
            "object_position": null,
            "object_fit": null,
            "grid_auto_columns": null,
            "margin": null,
            "display": null,
            "left": null
          }
        },
        "aa78faa06fe243b69966f6b4aa7c3297": {
          "model_module": "@jupyter-widgets/controls",
          "model_name": "DescriptionStyleModel",
          "state": {
            "_view_name": "StyleView",
            "_model_name": "DescriptionStyleModel",
            "description_width": "",
            "_view_module": "@jupyter-widgets/base",
            "_model_module_version": "1.5.0",
            "_view_count": null,
            "_view_module_version": "1.2.0",
            "_model_module": "@jupyter-widgets/controls"
          }
        },
        "c797e684c1644b80aa428ad7a4475596": {
          "model_module": "@jupyter-widgets/base",
          "model_name": "LayoutModel",
          "state": {
            "_view_name": "LayoutView",
            "grid_template_rows": null,
            "right": null,
            "justify_content": null,
            "_view_module": "@jupyter-widgets/base",
            "overflow": null,
            "_model_module_version": "1.2.0",
            "_view_count": null,
            "flex_flow": null,
            "width": null,
            "min_width": null,
            "border": null,
            "align_items": null,
            "bottom": null,
            "_model_module": "@jupyter-widgets/base",
            "top": null,
            "grid_column": null,
            "overflow_y": null,
            "overflow_x": null,
            "grid_auto_flow": null,
            "grid_area": null,
            "grid_template_columns": null,
            "flex": null,
            "_model_name": "LayoutModel",
            "justify_items": null,
            "grid_row": null,
            "max_height": null,
            "align_content": null,
            "visibility": null,
            "align_self": null,
            "height": null,
            "min_height": null,
            "padding": null,
            "grid_auto_rows": null,
            "grid_gap": null,
            "max_width": null,
            "order": null,
            "_view_module_version": "1.2.0",
            "grid_template_areas": null,
            "object_position": null,
            "object_fit": null,
            "grid_auto_columns": null,
            "margin": null,
            "display": null,
            "left": null
          }
        },
        "f249d8c0b6264025911e0227957a4d30": {
          "model_module": "@jupyter-widgets/controls",
          "model_name": "HBoxModel",
          "state": {
            "_view_name": "HBoxView",
            "_dom_classes": [],
            "_model_name": "HBoxModel",
            "_view_module": "@jupyter-widgets/controls",
            "_model_module_version": "1.5.0",
            "_view_count": null,
            "_view_module_version": "1.5.0",
            "box_style": "",
            "layout": "IPY_MODEL_a8534252d8ec4501bca8d59602ce9019",
            "_model_module": "@jupyter-widgets/controls",
            "children": [
              "IPY_MODEL_20e231253885439c9b9b3e2af7581ded",
              "IPY_MODEL_e34cfd45a52f4e69856ce84d57381da5"
            ]
          }
        },
        "a8534252d8ec4501bca8d59602ce9019": {
          "model_module": "@jupyter-widgets/base",
          "model_name": "LayoutModel",
          "state": {
            "_view_name": "LayoutView",
            "grid_template_rows": null,
            "right": null,
            "justify_content": null,
            "_view_module": "@jupyter-widgets/base",
            "overflow": null,
            "_model_module_version": "1.2.0",
            "_view_count": null,
            "flex_flow": null,
            "width": null,
            "min_width": null,
            "border": null,
            "align_items": null,
            "bottom": null,
            "_model_module": "@jupyter-widgets/base",
            "top": null,
            "grid_column": null,
            "overflow_y": null,
            "overflow_x": null,
            "grid_auto_flow": null,
            "grid_area": null,
            "grid_template_columns": null,
            "flex": null,
            "_model_name": "LayoutModel",
            "justify_items": null,
            "grid_row": null,
            "max_height": null,
            "align_content": null,
            "visibility": null,
            "align_self": null,
            "height": null,
            "min_height": null,
            "padding": null,
            "grid_auto_rows": null,
            "grid_gap": null,
            "max_width": null,
            "order": null,
            "_view_module_version": "1.2.0",
            "grid_template_areas": null,
            "object_position": null,
            "object_fit": null,
            "grid_auto_columns": null,
            "margin": null,
            "display": null,
            "left": null
          }
        },
        "20e231253885439c9b9b3e2af7581ded": {
          "model_module": "@jupyter-widgets/controls",
          "model_name": "FloatProgressModel",
          "state": {
            "_view_name": "ProgressView",
            "style": "IPY_MODEL_94dd80166fcb48ca92512667de27b260",
            "_dom_classes": [],
            "description": "Downloading: 100%",
            "_model_name": "FloatProgressModel",
            "bar_style": "success",
            "max": 112,
            "_view_module": "@jupyter-widgets/controls",
            "_model_module_version": "1.5.0",
            "value": 112,
            "_view_count": null,
            "_view_module_version": "1.5.0",
            "orientation": "horizontal",
            "min": 0,
            "description_tooltip": null,
            "_model_module": "@jupyter-widgets/controls",
            "layout": "IPY_MODEL_0b7266fe8e9e48d2beb21343b60362b1"
          }
        },
        "e34cfd45a52f4e69856ce84d57381da5": {
          "model_module": "@jupyter-widgets/controls",
          "model_name": "HTMLModel",
          "state": {
            "_view_name": "HTMLView",
            "style": "IPY_MODEL_54e99d9db95b48fab61cc61d4a142a5d",
            "_dom_classes": [],
            "description": "",
            "_model_name": "HTMLModel",
            "placeholder": "​",
            "_view_module": "@jupyter-widgets/controls",
            "_model_module_version": "1.5.0",
            "value": " 112/112 [00:00&lt;00:00, 136B/s]",
            "_view_count": null,
            "_view_module_version": "1.5.0",
            "description_tooltip": null,
            "_model_module": "@jupyter-widgets/controls",
            "layout": "IPY_MODEL_0849bca10dfa4a73af6feed7f1183af4"
          }
        },
        "94dd80166fcb48ca92512667de27b260": {
          "model_module": "@jupyter-widgets/controls",
          "model_name": "ProgressStyleModel",
          "state": {
            "_view_name": "StyleView",
            "_model_name": "ProgressStyleModel",
            "description_width": "initial",
            "_view_module": "@jupyter-widgets/base",
            "_model_module_version": "1.5.0",
            "_view_count": null,
            "_view_module_version": "1.2.0",
            "bar_color": null,
            "_model_module": "@jupyter-widgets/controls"
          }
        },
        "0b7266fe8e9e48d2beb21343b60362b1": {
          "model_module": "@jupyter-widgets/base",
          "model_name": "LayoutModel",
          "state": {
            "_view_name": "LayoutView",
            "grid_template_rows": null,
            "right": null,
            "justify_content": null,
            "_view_module": "@jupyter-widgets/base",
            "overflow": null,
            "_model_module_version": "1.2.0",
            "_view_count": null,
            "flex_flow": null,
            "width": null,
            "min_width": null,
            "border": null,
            "align_items": null,
            "bottom": null,
            "_model_module": "@jupyter-widgets/base",
            "top": null,
            "grid_column": null,
            "overflow_y": null,
            "overflow_x": null,
            "grid_auto_flow": null,
            "grid_area": null,
            "grid_template_columns": null,
            "flex": null,
            "_model_name": "LayoutModel",
            "justify_items": null,
            "grid_row": null,
            "max_height": null,
            "align_content": null,
            "visibility": null,
            "align_self": null,
            "height": null,
            "min_height": null,
            "padding": null,
            "grid_auto_rows": null,
            "grid_gap": null,
            "max_width": null,
            "order": null,
            "_view_module_version": "1.2.0",
            "grid_template_areas": null,
            "object_position": null,
            "object_fit": null,
            "grid_auto_columns": null,
            "margin": null,
            "display": null,
            "left": null
          }
        },
        "54e99d9db95b48fab61cc61d4a142a5d": {
          "model_module": "@jupyter-widgets/controls",
          "model_name": "DescriptionStyleModel",
          "state": {
            "_view_name": "StyleView",
            "_model_name": "DescriptionStyleModel",
            "description_width": "",
            "_view_module": "@jupyter-widgets/base",
            "_model_module_version": "1.5.0",
            "_view_count": null,
            "_view_module_version": "1.2.0",
            "_model_module": "@jupyter-widgets/controls"
          }
        },
        "0849bca10dfa4a73af6feed7f1183af4": {
          "model_module": "@jupyter-widgets/base",
          "model_name": "LayoutModel",
          "state": {
            "_view_name": "LayoutView",
            "grid_template_rows": null,
            "right": null,
            "justify_content": null,
            "_view_module": "@jupyter-widgets/base",
            "overflow": null,
            "_model_module_version": "1.2.0",
            "_view_count": null,
            "flex_flow": null,
            "width": null,
            "min_width": null,
            "border": null,
            "align_items": null,
            "bottom": null,
            "_model_module": "@jupyter-widgets/base",
            "top": null,
            "grid_column": null,
            "overflow_y": null,
            "overflow_x": null,
            "grid_auto_flow": null,
            "grid_area": null,
            "grid_template_columns": null,
            "flex": null,
            "_model_name": "LayoutModel",
            "justify_items": null,
            "grid_row": null,
            "max_height": null,
            "align_content": null,
            "visibility": null,
            "align_self": null,
            "height": null,
            "min_height": null,
            "padding": null,
            "grid_auto_rows": null,
            "grid_gap": null,
            "max_width": null,
            "order": null,
            "_view_module_version": "1.2.0",
            "grid_template_areas": null,
            "object_position": null,
            "object_fit": null,
            "grid_auto_columns": null,
            "margin": null,
            "display": null,
            "left": null
          }
        },
        "66255d19446f40b498ace259f502e06d": {
          "model_module": "@jupyter-widgets/controls",
          "model_name": "HBoxModel",
          "state": {
            "_view_name": "HBoxView",
            "_dom_classes": [],
            "_model_name": "HBoxModel",
            "_view_module": "@jupyter-widgets/controls",
            "_model_module_version": "1.5.0",
            "_view_count": null,
            "_view_module_version": "1.5.0",
            "box_style": "",
            "layout": "IPY_MODEL_7056995bdc024c44bad884b8f2d6fefc",
            "_model_module": "@jupyter-widgets/controls",
            "children": [
              "IPY_MODEL_2782ab536cae48c0a23ea69d496e5dcc",
              "IPY_MODEL_4da36419634b435fb638011818553f1f"
            ]
          }
        },
        "7056995bdc024c44bad884b8f2d6fefc": {
          "model_module": "@jupyter-widgets/base",
          "model_name": "LayoutModel",
          "state": {
            "_view_name": "LayoutView",
            "grid_template_rows": null,
            "right": null,
            "justify_content": null,
            "_view_module": "@jupyter-widgets/base",
            "overflow": null,
            "_model_module_version": "1.2.0",
            "_view_count": null,
            "flex_flow": null,
            "width": null,
            "min_width": null,
            "border": null,
            "align_items": null,
            "bottom": null,
            "_model_module": "@jupyter-widgets/base",
            "top": null,
            "grid_column": null,
            "overflow_y": null,
            "overflow_x": null,
            "grid_auto_flow": null,
            "grid_area": null,
            "grid_template_columns": null,
            "flex": null,
            "_model_name": "LayoutModel",
            "justify_items": null,
            "grid_row": null,
            "max_height": null,
            "align_content": null,
            "visibility": null,
            "align_self": null,
            "height": null,
            "min_height": null,
            "padding": null,
            "grid_auto_rows": null,
            "grid_gap": null,
            "max_width": null,
            "order": null,
            "_view_module_version": "1.2.0",
            "grid_template_areas": null,
            "object_position": null,
            "object_fit": null,
            "grid_auto_columns": null,
            "margin": null,
            "display": null,
            "left": null
          }
        },
        "2782ab536cae48c0a23ea69d496e5dcc": {
          "model_module": "@jupyter-widgets/controls",
          "model_name": "FloatProgressModel",
          "state": {
            "_view_name": "ProgressView",
            "style": "IPY_MODEL_aaea984a9e0a47c1b7a16f8ff4f6e63d",
            "_dom_classes": [],
            "description": "Downloading: 100%",
            "_model_name": "FloatProgressModel",
            "bar_style": "success",
            "max": 2,
            "_view_module": "@jupyter-widgets/controls",
            "_model_module_version": "1.5.0",
            "value": 2,
            "_view_count": null,
            "_view_module_version": "1.5.0",
            "orientation": "horizontal",
            "min": 0,
            "description_tooltip": null,
            "_model_module": "@jupyter-widgets/controls",
            "layout": "IPY_MODEL_5155a8b2d24d423293b8a01037223590"
          }
        },
        "4da36419634b435fb638011818553f1f": {
          "model_module": "@jupyter-widgets/controls",
          "model_name": "HTMLModel",
          "state": {
            "_view_name": "HTMLView",
            "style": "IPY_MODEL_bbecb7fb569d415da33a5d89c7b868d8",
            "_dom_classes": [],
            "description": "",
            "_model_name": "HTMLModel",
            "placeholder": "​",
            "_view_module": "@jupyter-widgets/controls",
            "_model_module_version": "1.5.0",
            "value": " 2.00/2.00 [00:00&lt;00:00, 12.6B/s]",
            "_view_count": null,
            "_view_module_version": "1.5.0",
            "description_tooltip": null,
            "_model_module": "@jupyter-widgets/controls",
            "layout": "IPY_MODEL_0ed16dcea2bd45c9a0cefaf5e1a34994"
          }
        },
        "aaea984a9e0a47c1b7a16f8ff4f6e63d": {
          "model_module": "@jupyter-widgets/controls",
          "model_name": "ProgressStyleModel",
          "state": {
            "_view_name": "StyleView",
            "_model_name": "ProgressStyleModel",
            "description_width": "initial",
            "_view_module": "@jupyter-widgets/base",
            "_model_module_version": "1.5.0",
            "_view_count": null,
            "_view_module_version": "1.2.0",
            "bar_color": null,
            "_model_module": "@jupyter-widgets/controls"
          }
        },
        "5155a8b2d24d423293b8a01037223590": {
          "model_module": "@jupyter-widgets/base",
          "model_name": "LayoutModel",
          "state": {
            "_view_name": "LayoutView",
            "grid_template_rows": null,
            "right": null,
            "justify_content": null,
            "_view_module": "@jupyter-widgets/base",
            "overflow": null,
            "_model_module_version": "1.2.0",
            "_view_count": null,
            "flex_flow": null,
            "width": null,
            "min_width": null,
            "border": null,
            "align_items": null,
            "bottom": null,
            "_model_module": "@jupyter-widgets/base",
            "top": null,
            "grid_column": null,
            "overflow_y": null,
            "overflow_x": null,
            "grid_auto_flow": null,
            "grid_area": null,
            "grid_template_columns": null,
            "flex": null,
            "_model_name": "LayoutModel",
            "justify_items": null,
            "grid_row": null,
            "max_height": null,
            "align_content": null,
            "visibility": null,
            "align_self": null,
            "height": null,
            "min_height": null,
            "padding": null,
            "grid_auto_rows": null,
            "grid_gap": null,
            "max_width": null,
            "order": null,
            "_view_module_version": "1.2.0",
            "grid_template_areas": null,
            "object_position": null,
            "object_fit": null,
            "grid_auto_columns": null,
            "margin": null,
            "display": null,
            "left": null
          }
        },
        "bbecb7fb569d415da33a5d89c7b868d8": {
          "model_module": "@jupyter-widgets/controls",
          "model_name": "DescriptionStyleModel",
          "state": {
            "_view_name": "StyleView",
            "_model_name": "DescriptionStyleModel",
            "description_width": "",
            "_view_module": "@jupyter-widgets/base",
            "_model_module_version": "1.5.0",
            "_view_count": null,
            "_view_module_version": "1.2.0",
            "_model_module": "@jupyter-widgets/controls"
          }
        },
        "0ed16dcea2bd45c9a0cefaf5e1a34994": {
          "model_module": "@jupyter-widgets/base",
          "model_name": "LayoutModel",
          "state": {
            "_view_name": "LayoutView",
            "grid_template_rows": null,
            "right": null,
            "justify_content": null,
            "_view_module": "@jupyter-widgets/base",
            "overflow": null,
            "_model_module_version": "1.2.0",
            "_view_count": null,
            "flex_flow": null,
            "width": null,
            "min_width": null,
            "border": null,
            "align_items": null,
            "bottom": null,
            "_model_module": "@jupyter-widgets/base",
            "top": null,
            "grid_column": null,
            "overflow_y": null,
            "overflow_x": null,
            "grid_auto_flow": null,
            "grid_area": null,
            "grid_template_columns": null,
            "flex": null,
            "_model_name": "LayoutModel",
            "justify_items": null,
            "grid_row": null,
            "max_height": null,
            "align_content": null,
            "visibility": null,
            "align_self": null,
            "height": null,
            "min_height": null,
            "padding": null,
            "grid_auto_rows": null,
            "grid_gap": null,
            "max_width": null,
            "order": null,
            "_view_module_version": "1.2.0",
            "grid_template_areas": null,
            "object_position": null,
            "object_fit": null,
            "grid_auto_columns": null,
            "margin": null,
            "display": null,
            "left": null
          }
        }
      }
    }
  },
  "cells": [
    {
      "cell_type": "code",
      "metadata": {
        "id": "NB-SC0c7aVKz"
      },
      "source": [
        "import string\n",
        "import wikipedia\n",
        "from rank_bm25 import BM25Okapi\n",
        "import pymorphy2\n",
        "from natasha import MorphVocab\n",
        "from razdel import tokenize\n",
        "from sklearn.metrics.pairwise import cosine_similarity\n",
        "from sklearn.feature_extraction.text import CountVectorizer\n",
        "from sklearn.feature_extraction.text import TfidfVectorizer\n",
        "import re\n",
        "import razdel\n",
        "import nltk\n",
        "import string\n",
        "from string import punctuation\n",
        "from nltk.corpus import stopwords\n",
        "from sentence_transformers import SentenceTransformer, util\n",
        "import unicodedata\n",
        "import torch\n",
        "from torch.utils.data import TensorDataset, DataLoader, RandomSampler, SequentialSampler\n",
        "from keras.preprocessing.sequence import pad_sequences\n",
        "from sklearn.model_selection import train_test_split\n",
        "from pytorch_transformers import BertTokenizer, BertConfig\n",
        "from pytorch_transformers import AdamW, BertForSequenceClassification\n",
        "from tqdm import tqdm, trange\n",
        "import pandas as pd\n",
        "import io\n",
        "import numpy as np\n",
        "from sklearn.metrics import accuracy_score\n",
        "import matplotlib.pyplot as plt\n",
        "from IPython.display import clear_output\n",
        "import tensorflow as tf\n",
        "from natasha import (\n",
        "    Segmenter,\n",
        "    MorphVocab,\n",
        "    NewsEmbedding,\n",
        "    NewsMorphTagger,\n",
        "    NewsSyntaxParser,\n",
        "    NewsNERTagger,\n",
        "    PER,\n",
        "    NamesExtractor,\n",
        "\n",
        "    Doc\n",
        "\n",
        ")"
      ],
      "execution_count": null,
      "outputs": []
    },
    {
      "cell_type": "code",
      "metadata": {
        "colab": {
          "base_uri": "https://localhost:8080/"
        },
        "id": "Fo7tlwY7iu-J",
        "outputId": "d119c3df-6c11-4870-f2e0-857b2d20dc30"
      },
      "source": [
        "nltk.download('stopwords')"
      ],
      "execution_count": null,
      "outputs": [
        {
          "output_type": "stream",
          "text": [
            "[nltk_data] Downloading package stopwords to /root/nltk_data...\n",
            "[nltk_data]   Unzipping corpora/stopwords.zip.\n"
          ],
          "name": "stdout"
        },
        {
          "output_type": "execute_result",
          "data": {
            "text/plain": [
              "True"
            ]
          },
          "metadata": {
            "tags": []
          },
          "execution_count": 12
        }
      ]
    },
    {
      "cell_type": "code",
      "metadata": {
        "id": "peAcJO-tbOP7"
      },
      "source": [
        "def delete_punctuation(sen):\n",
        "  remove_punc = string.punctuation + '«»' \n",
        "  return ''.join([i for i in sen if (i not in remove_punc) or i == '-']) #return string"
      ],
      "execution_count": null,
      "outputs": []
    },
    {
      "cell_type": "code",
      "metadata": {
        "id": "0HTtTonVbQ7l"
      },
      "source": [
        "def word_morphy(sen, morph = pymorphy2.MorphAnalyzer()):\n",
        "  return ' '.join([morph.parse(_.text)[0].normal_form for _ in tokenize(sen)])"
      ],
      "execution_count": null,
      "outputs": []
    },
    {
      "cell_type": "code",
      "metadata": {
        "id": "ZQFxYTllbViu"
      },
      "source": [
        "def ner_for_search(claim, emb = NewsEmbedding(), segmenter = Segmenter()):\n",
        "  corpus = []\n",
        "  ner_tagger = NewsNERTagger(emb)\n",
        "  doc = Doc(claim)\n",
        "  doc.segment(segmenter)\n",
        "  doc.tag_ner(ner_tagger)\n",
        "  for spans in doc.spans:\n",
        "    corpus = corpus + wikipedia.search(spans.text)\n",
        "  return corpus"
      ],
      "execution_count": null,
      "outputs": []
    },
    {
      "cell_type": "code",
      "metadata": {
        "id": "rLk4eoWGbM6j"
      },
      "source": [
        "# input: usial sen\n",
        "# output: list of top k-topics\n",
        "# n - results of wiki.search\n",
        "# k - results of top k-topics\n",
        "# function is okey\n",
        "def top_k_articles(query, n = None, k = 2, lang = 'ru', need_score = False):\n",
        "  corpus, corpus_ner = [],[]\n",
        "  wikipedia.set_lang(lang)\n",
        "  if len(query) < 300:\n",
        "    corpus = wikipedia.search(query, results = 3)\n",
        "  corpus_ner = ner_for_search(query)\n",
        "  if type(corpus) is list:\n",
        "    if type(corpus_ner) is list:\n",
        "      new_corpus = corpus + corpus_ner\n",
        "    else: new_corpus = corpus\n",
        "  elif type(corpus_ner) is list: new_corpus = corpus_ner\n",
        "  else: return 'Недостаточно информации'\n",
        "  if len(new_corpus) != 0:\n",
        "    new_corpus_pre = list(map(delete_punctuation, new_corpus)) #мб токены сделать сразу\n",
        "    new_corpus_pre = list(map(word_morphy, new_corpus_pre))\n",
        "    tokenized_corpus = [doc.split(\" \") for doc in new_corpus_pre]\n",
        "    tokenized_query = query.split(\" \")\n",
        "    tokenized_query = word_morphy(delete_punctuation(query)).split(\" \")\n",
        "   \n",
        "    bm25 = BM25Okapi(tokenized_corpus)\n",
        "    score = bm25.get_scores(tokenized_query)\n",
        "    lst_article_score = []\n",
        "    for i in range(len(score)):\n",
        "      if score[i] > 0:\n",
        "          lst_article_score.append([new_corpus[i], score[i]])\n",
        "\n",
        "    lst_article_score.sort(key= lambda x: x[1], reverse=True)\n",
        "    #print('print', lst_article_score)\n",
        "    article = [element[0] for element in lst_article_score]\n",
        "    return lst_article_score if need_score == True else article[:k] \n",
        "  else: return 'Недостаточно информации'"
      ],
      "execution_count": null,
      "outputs": []
    },
    {
      "cell_type": "code",
      "metadata": {
        "id": "lt27QVYNbZ0C"
      },
      "source": [
        "def get_token_sen(page):\n",
        "    start = re.search(r'\\n{3}===? Примечания ===?', page)\n",
        "    start_next = re.search(r'\\n{3}===? Издания ===?', page)\n",
        "    if start is re.Match:\n",
        "      step = start.span()[0]\n",
        "      page = page[:step]\n",
        "    if start_next is re.Match:\n",
        "      step_next = start_next.span()[0]\n",
        "      if start > start_next:\n",
        "        page = page[:start_next]\n",
        "\n",
        "    clean = re.sub('\\n{3}===? [а-яА-ЯЁё0-9.,-a-zA-Z ]+ ===?',' ',page) #[] добавить символы типо -/?\n",
        "    #token\n",
        "    return [_.text for _ in razdel.sentenize(clean)]"
      ],
      "execution_count": null,
      "outputs": []
    },
    {
      "cell_type": "code",
      "metadata": {
        "id": "fcM2M08JbZ3n"
      },
      "source": [
        "def remove_accents(input_str):\n",
        "    nfkd_form = unicodedata.normalize('NFKD', input_str)\n",
        "    return u\"\".join([c for c in nfkd_form if not unicodedata.combining(c)])"
      ],
      "execution_count": null,
      "outputs": []
    },
    {
      "cell_type": "code",
      "metadata": {
        "id": "3wFzsQ3LjJXz"
      },
      "source": [
        "def token_word_morphy(sen, morph = pymorphy2.MorphAnalyzer()):\n",
        "  return [morph.parse(_.text)[0].normal_form for _ in razdel.tokenize(sen)] "
      ],
      "execution_count": null,
      "outputs": []
    },
    {
      "cell_type": "code",
      "metadata": {
        "id": "nEfHhaVsjJlk"
      },
      "source": [
        "def noise():\n",
        "    return (stopwords.words('russian') + list(punctuation + 'IVIX«»\\n№́'))"
      ],
      "execution_count": null,
      "outputs": []
    },
    {
      "cell_type": "code",
      "metadata": {
        "id": "PmQUXJmejJrq"
      },
      "source": [
        "#'DeepPavlov/rubert-base-cased'\n",
        "def rubert_cosine_sim_score(claim, page, min_value = 0.35, top = 5,\\\n",
        "                            model = SentenceTransformer('distiluse-base-multilingual-cased-v1')):\n",
        "  lst_sen_score = []\n",
        "\n",
        "  text = get_token_sen(page)\n",
        "  text = list(map(remove_accents, text))\n",
        "  text.insert(0, claim)\n",
        "\n",
        "  embeddings = model.encode(text, convert_to_tensor=True)\n",
        "  for i in range(1, len(embeddings)):\n",
        "    score = util.pytorch_cos_sim(embeddings[0], embeddings[i])\n",
        "    if score > min_value:\n",
        "      lst_sen_score.append([i, text[i], score])\n",
        "  lst_sen_score.sort(key= lambda x: x[2], reverse=True)\n",
        "  if top is not None:\n",
        "    return lst_sen_score[:top]\n",
        "  else: return lst_sen_score"
      ],
      "execution_count": null,
      "outputs": []
    },
    {
      "cell_type": "code",
      "metadata": {
        "id": "DL-D-vxGjpcM"
      },
      "source": [
        "def top_l_sentences(claim, corpus_articles, top_sen = 20, only_sen = True):\n",
        "  wikipedia.set_lang(\"ru\")\n",
        "  lst_sen = []\n",
        "  if len(corpus_articles) == 0: return 'Недостаточно информации'\n",
        "  for article in corpus_articles:\n",
        "    try:\n",
        "      complete_content = wikipedia.page(article)\n",
        "      page = complete_content.content\n",
        "      lst_sen.append(rubert_cosine_sim_score(claim, page))\n",
        "    except Exception: continue\n",
        "  if type(lst_sen) is not list: return 'Недостаточно информации'\n",
        "  if only_sen == False: return lst_sen\n",
        "  else: \n",
        "    lst = []\n",
        "    for i_article in lst_sen:\n",
        "      for sentences in i_article:\n",
        "        lst.append(sentences[1])\n",
        "    if len(lst) > top_sen:\n",
        "      return lst[:top_sen]\n",
        "    else: return lst"
      ],
      "execution_count": null,
      "outputs": []
    },
    {
      "cell_type": "code",
      "metadata": {
        "id": "_CXSs0PQjple"
      },
      "source": [
        "def nli_componet(claim, corpus_sen):\n",
        "  array_score, array_label = [], []\n",
        "  for i_sentence in corpus_sen:\n",
        "    prediction_score, prediction_label = check_sentences(claim, i_sentence)\n",
        "    array_score = np.append(array_score, prediction_score).reshape(-1,2)\n",
        "    array_label = np.append(array_label, prediction_label)\n",
        "  return array_score, array_label"
      ],
      "execution_count": null,
      "outputs": []
    },
    {
      "cell_type": "code",
      "metadata": {
        "id": "QtDlDDOOjJ0F"
      },
      "source": [
        "def logical_aggregation(prediction_label, prediction_score, corpus_sen):\n",
        "  max_pred = prediction_score.max()\n",
        "  s = sum(prediction_label)\n",
        "  r = abs(len(prediction_label) - s)\n",
        "  if r == 0:\n",
        "    return 'Правда', corpus_sen[int(np.where(prediction_score == max_pred)[0])]\n",
        "  elif s == 0:\n",
        "    #print('hi')\n",
        "    return 'Ложь', corpus_sen[int(np.where(prediction_score == max_pred)[0])]\n",
        "  elif r == 0 and s == 0:\n",
        "    return 'Недостаточно информации'\n",
        "  else: \n",
        "    index = np.argmax(prediction_score)\n",
        "    #print(max_pred)\n",
        "    if index % 2 == 0:\n",
        "      return 'Ложь', corpus_sen[int(np.where(prediction_score == max_pred)[0])], 'Вероятность {}%'.format(round(max_pred*100,2))\n",
        "    else: return 'Правда', corpus_sen[int(np.where(prediction_score == max_pred)[0])], 'Вероятность {}%'.format(round(max_pred*100,2))"
      ],
      "execution_count": null,
      "outputs": []
    },
    {
      "cell_type": "code",
      "metadata": {
        "id": "o3nAE8m9jJ5l"
      },
      "source": [
        "def check_sentences(sen1, sen2, check=False, model = torch.load('/content/drive/MyDrive/model_RuBert3.pt', map_location=torch.device('cpu'))):\n",
        "  in_id, token_id, mask = encoded_inputs_(sen1,sen2)\n",
        "  inputs = torch.tensor([in_id])\n",
        "  token = torch.tensor([token_id])\n",
        "  masks = torch.tensor([mask])  \n",
        "  outputs = model(input_ids = inputs, token_type_ids = token, attention_mask = masks)\n",
        "  prob = tf.nn.softmax(outputs[0].detach().numpy()).numpy()[0]\n",
        "\n",
        "  prob_index = np.argmax(prob)\n",
        "\n",
        "  if check == True: return 'Не верно' if prob_index == 0 else 'Верно'\n",
        "  else: return prob, prob_index"
      ],
      "execution_count": null,
      "outputs": []
    },
    {
      "cell_type": "code",
      "metadata": {
        "colab": {
          "base_uri": "https://localhost:8080/",
          "height": 217,
          "referenced_widgets": [
            "03b060e690834b49836c35a433beeb82",
            "9e2cc38aa79843e49d2a86269347353c",
            "4fa262cc355045289b2d1bc2a7edd035",
            "9fdee5e5034e4fa5884cad10b4d17d7f",
            "6199dec237524c488a868f459a709f43",
            "1586cc6c488b49cda1ea01ffca1bd15c",
            "57ab00dd354c4a9693878211426b188e",
            "6e0c236965df4a95a59387e3b569a087",
            "54b0aa5f8f7845b5b50258c1ec5efee2",
            "96b5ec4a1f8f4673a38854d79918879e",
            "83c9726ec24c4a0f931d266990e03f84",
            "7c647c7164364ca488a6f153d91f6a75",
            "4379ef19763141e48bc7dc03b430e258",
            "626ab523c3be4677ab5029287dd7a6ec",
            "aa78faa06fe243b69966f6b4aa7c3297",
            "c797e684c1644b80aa428ad7a4475596",
            "f249d8c0b6264025911e0227957a4d30",
            "a8534252d8ec4501bca8d59602ce9019",
            "20e231253885439c9b9b3e2af7581ded",
            "e34cfd45a52f4e69856ce84d57381da5",
            "94dd80166fcb48ca92512667de27b260",
            "0b7266fe8e9e48d2beb21343b60362b1",
            "54e99d9db95b48fab61cc61d4a142a5d",
            "0849bca10dfa4a73af6feed7f1183af4",
            "66255d19446f40b498ace259f502e06d",
            "7056995bdc024c44bad884b8f2d6fefc",
            "2782ab536cae48c0a23ea69d496e5dcc",
            "4da36419634b435fb638011818553f1f",
            "aaea984a9e0a47c1b7a16f8ff4f6e63d",
            "5155a8b2d24d423293b8a01037223590",
            "bbecb7fb569d415da33a5d89c7b868d8",
            "0ed16dcea2bd45c9a0cefaf5e1a34994"
          ]
        },
        "id": "wXL73r-xkCts",
        "outputId": "e5269769-c6f4-4357-b848-b03c7dd7e80f"
      },
      "source": [
        "from transformers import AutoTokenizer\n",
        "#input: str, str\n",
        "#output: input_ids, token_type_ids, attention_mask\n",
        "#tokenizer для мультиязычного: 'bert-base-multilingual-cased'\n",
        "#только для русского языка: 'DeepPavlov/rubert-base-cased'\n",
        "def encoded_inputs_(claim, evidence, tokenizer = AutoTokenizer.from_pretrained('DeepPavlov/rubert-base-cased'), MAXLEN = 512):\n",
        "  encoded_inputs = tokenizer(claim, evidence, max_length=MAXLEN)\n",
        "  return encoded_inputs['input_ids'], encoded_inputs['token_type_ids'], encoded_inputs ['attention_mask']"
      ],
      "execution_count": null,
      "outputs": [
        {
          "output_type": "display_data",
          "data": {
            "application/vnd.jupyter.widget-view+json": {
              "model_id": "03b060e690834b49836c35a433beeb82",
              "version_minor": 0,
              "version_major": 2
            },
            "text/plain": [
              "HBox(children=(FloatProgress(value=0.0, description='Downloading', max=642.0, style=ProgressStyle(description_…"
            ]
          },
          "metadata": {
            "tags": []
          }
        },
        {
          "output_type": "stream",
          "text": [
            "\n"
          ],
          "name": "stdout"
        },
        {
          "output_type": "display_data",
          "data": {
            "application/vnd.jupyter.widget-view+json": {
              "model_id": "54b0aa5f8f7845b5b50258c1ec5efee2",
              "version_minor": 0,
              "version_major": 2
            },
            "text/plain": [
              "HBox(children=(FloatProgress(value=0.0, description='Downloading', max=1649718.0, style=ProgressStyle(descript…"
            ]
          },
          "metadata": {
            "tags": []
          }
        },
        {
          "output_type": "stream",
          "text": [
            "\n"
          ],
          "name": "stdout"
        },
        {
          "output_type": "display_data",
          "data": {
            "application/vnd.jupyter.widget-view+json": {
              "model_id": "f249d8c0b6264025911e0227957a4d30",
              "version_minor": 0,
              "version_major": 2
            },
            "text/plain": [
              "HBox(children=(FloatProgress(value=0.0, description='Downloading', max=112.0, style=ProgressStyle(description_…"
            ]
          },
          "metadata": {
            "tags": []
          }
        },
        {
          "output_type": "stream",
          "text": [
            "\n"
          ],
          "name": "stdout"
        },
        {
          "output_type": "display_data",
          "data": {
            "application/vnd.jupyter.widget-view+json": {
              "model_id": "66255d19446f40b498ace259f502e06d",
              "version_minor": 0,
              "version_major": 2
            },
            "text/plain": [
              "HBox(children=(FloatProgress(value=0.0, description='Downloading', max=2.0, style=ProgressStyle(description_wi…"
            ]
          },
          "metadata": {
            "tags": []
          }
        },
        {
          "output_type": "stream",
          "text": [
            "\n"
          ],
          "name": "stdout"
        }
      ]
    },
    {
      "cell_type": "code",
      "metadata": {
        "id": "npVWaymvkGxi"
      },
      "source": [
        "def fact_checking(claim):\n",
        "  score, label = 0, 0\n",
        "  corpus_articles = top_k_articles(claim)\n",
        "  if corpus_articles == 'Недостаточно информации': return 'Недостаточно информации'\n",
        "  corpus_sen = top_l_sentences(claim, corpus_articles)\n",
        "  if corpus_sen == 'Недостаточно информации' or len(corpus_sen) == 0: return 'Недостаточно информации'\n",
        "  #print(corpus_sen)\n",
        "  try:\n",
        "    score, label = nli_componet(claim, corpus_sen)\n",
        "    return logical_aggregation(label,score,corpus_sen)\n",
        "  except ValueError:\n",
        "    return 'Недостаточно информации'"
      ],
      "execution_count": null,
      "outputs": []
    },
    {
      "cell_type": "code",
      "metadata": {
        "colab": {
          "base_uri": "https://localhost:8080/"
        },
        "id": "ZGyooUs419hq",
        "outputId": "e16d5294-2eb0-4028-e323-a8f4ac0bb2ee"
      },
      "source": [
        "fact_checking('Атлантический палтус — самый крупный представитель камбалообразных рыб. ')"
      ],
      "execution_count": null,
      "outputs": [
        {
          "output_type": "execute_result",
          "data": {
            "text/plain": [
              "('Правда',\n",
              " 'Атлантическии белокорыи палтус или атлантическии палтус  (лат. Hippoglossus hippoglossus) — рыба семеиства камбаловых, один из самых крупных представителеи семеиства.',\n",
              " 'Вероятность 89.37%')"
            ]
          },
          "metadata": {
            "tags": []
          },
          "execution_count": 240
        }
      ]
    },
    {
      "cell_type": "code",
      "metadata": {
        "colab": {
          "base_uri": "https://localhost:8080/"
        },
        "id": "N8QJqMVHsgeb",
        "outputId": "9d53510e-30c9-4c85-d994-99daad212bf8"
      },
      "source": [
        "fact_checking('В мире насчитывается около 200 пород кошек')"
      ],
      "execution_count": null,
      "outputs": [
        {
          "output_type": "execute_result",
          "data": {
            "text/plain": [
              "('Правда',\n",
              " 'В настоящее время в мире насчитывается около 600 млн домашних кошек, выведено около 200 пород, от длинношерстных (персидская кошка) до лишенных шерсти (сфинксы), признанных и зарегистрированных различными фелинологическими организациями.')"
            ]
          },
          "metadata": {
            "tags": []
          },
          "execution_count": 196
        }
      ]
    }
  ]
}