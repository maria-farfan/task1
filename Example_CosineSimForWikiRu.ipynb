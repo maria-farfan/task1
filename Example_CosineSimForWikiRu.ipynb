{
  "nbformat": 4,
  "nbformat_minor": 0,
  "metadata": {
    "colab": {
      "name": "Example_CosineSimForWikiRu",
      "provenance": [],
      "collapsed_sections": []
    },
    "kernelspec": {
      "name": "python3",
      "display_name": "Python 3"
    },
    "language_info": {
      "name": "python"
    },
    "widgets": {
      "application/vnd.jupyter.widget-state+json": {
        "7b49970fa38e44069e79982118fe61d6": {
          "model_module": "@jupyter-widgets/controls",
          "model_name": "HBoxModel",
          "state": {
            "_view_name": "HBoxView",
            "_dom_classes": [],
            "_model_name": "HBoxModel",
            "_view_module": "@jupyter-widgets/controls",
            "_model_module_version": "1.5.0",
            "_view_count": null,
            "_view_module_version": "1.5.0",
            "box_style": "",
            "layout": "IPY_MODEL_006710a0e2c843af95df432cd07ed715",
            "_model_module": "@jupyter-widgets/controls",
            "children": [
              "IPY_MODEL_80509f6dd38e48a7be0edddee57caf3b",
              "IPY_MODEL_07254c10ed894b38b3d6e8e874b7b2c2"
            ]
          }
        },
        "006710a0e2c843af95df432cd07ed715": {
          "model_module": "@jupyter-widgets/base",
          "model_name": "LayoutModel",
          "state": {
            "_view_name": "LayoutView",
            "grid_template_rows": null,
            "right": null,
            "justify_content": null,
            "_view_module": "@jupyter-widgets/base",
            "overflow": null,
            "_model_module_version": "1.2.0",
            "_view_count": null,
            "flex_flow": null,
            "width": null,
            "min_width": null,
            "border": null,
            "align_items": null,
            "bottom": null,
            "_model_module": "@jupyter-widgets/base",
            "top": null,
            "grid_column": null,
            "overflow_y": null,
            "overflow_x": null,
            "grid_auto_flow": null,
            "grid_area": null,
            "grid_template_columns": null,
            "flex": null,
            "_model_name": "LayoutModel",
            "justify_items": null,
            "grid_row": null,
            "max_height": null,
            "align_content": null,
            "visibility": null,
            "align_self": null,
            "height": null,
            "min_height": null,
            "padding": null,
            "grid_auto_rows": null,
            "grid_gap": null,
            "max_width": null,
            "order": null,
            "_view_module_version": "1.2.0",
            "grid_template_areas": null,
            "object_position": null,
            "object_fit": null,
            "grid_auto_columns": null,
            "margin": null,
            "display": null,
            "left": null
          }
        },
        "80509f6dd38e48a7be0edddee57caf3b": {
          "model_module": "@jupyter-widgets/controls",
          "model_name": "FloatProgressModel",
          "state": {
            "_view_name": "ProgressView",
            "style": "IPY_MODEL_7a090e75d12849caa1ca3e0f6ab186af",
            "_dom_classes": [],
            "description": "100%",
            "_model_name": "FloatProgressModel",
            "bar_style": "success",
            "max": 504594086,
            "_view_module": "@jupyter-widgets/controls",
            "_model_module_version": "1.5.0",
            "value": 504594086,
            "_view_count": null,
            "_view_module_version": "1.5.0",
            "orientation": "horizontal",
            "min": 0,
            "description_tooltip": null,
            "_model_module": "@jupyter-widgets/controls",
            "layout": "IPY_MODEL_614ca22bbe7846148eb61e2876d514e3"
          }
        },
        "07254c10ed894b38b3d6e8e874b7b2c2": {
          "model_module": "@jupyter-widgets/controls",
          "model_name": "HTMLModel",
          "state": {
            "_view_name": "HTMLView",
            "style": "IPY_MODEL_acdfe46bde994710b1b541ffecfd3003",
            "_dom_classes": [],
            "description": "",
            "_model_name": "HTMLModel",
            "placeholder": "​",
            "_view_module": "@jupyter-widgets/controls",
            "_model_module_version": "1.5.0",
            "value": " 505M/505M [00:27&lt;00:00, 18.2MB/s]",
            "_view_count": null,
            "_view_module_version": "1.5.0",
            "description_tooltip": null,
            "_model_module": "@jupyter-widgets/controls",
            "layout": "IPY_MODEL_e2541f96e00b4c79988b545d0db4e677"
          }
        },
        "7a090e75d12849caa1ca3e0f6ab186af": {
          "model_module": "@jupyter-widgets/controls",
          "model_name": "ProgressStyleModel",
          "state": {
            "_view_name": "StyleView",
            "_model_name": "ProgressStyleModel",
            "description_width": "initial",
            "_view_module": "@jupyter-widgets/base",
            "_model_module_version": "1.5.0",
            "_view_count": null,
            "_view_module_version": "1.2.0",
            "bar_color": null,
            "_model_module": "@jupyter-widgets/controls"
          }
        },
        "614ca22bbe7846148eb61e2876d514e3": {
          "model_module": "@jupyter-widgets/base",
          "model_name": "LayoutModel",
          "state": {
            "_view_name": "LayoutView",
            "grid_template_rows": null,
            "right": null,
            "justify_content": null,
            "_view_module": "@jupyter-widgets/base",
            "overflow": null,
            "_model_module_version": "1.2.0",
            "_view_count": null,
            "flex_flow": null,
            "width": null,
            "min_width": null,
            "border": null,
            "align_items": null,
            "bottom": null,
            "_model_module": "@jupyter-widgets/base",
            "top": null,
            "grid_column": null,
            "overflow_y": null,
            "overflow_x": null,
            "grid_auto_flow": null,
            "grid_area": null,
            "grid_template_columns": null,
            "flex": null,
            "_model_name": "LayoutModel",
            "justify_items": null,
            "grid_row": null,
            "max_height": null,
            "align_content": null,
            "visibility": null,
            "align_self": null,
            "height": null,
            "min_height": null,
            "padding": null,
            "grid_auto_rows": null,
            "grid_gap": null,
            "max_width": null,
            "order": null,
            "_view_module_version": "1.2.0",
            "grid_template_areas": null,
            "object_position": null,
            "object_fit": null,
            "grid_auto_columns": null,
            "margin": null,
            "display": null,
            "left": null
          }
        },
        "acdfe46bde994710b1b541ffecfd3003": {
          "model_module": "@jupyter-widgets/controls",
          "model_name": "DescriptionStyleModel",
          "state": {
            "_view_name": "StyleView",
            "_model_name": "DescriptionStyleModel",
            "description_width": "",
            "_view_module": "@jupyter-widgets/base",
            "_model_module_version": "1.5.0",
            "_view_count": null,
            "_view_module_version": "1.2.0",
            "_model_module": "@jupyter-widgets/controls"
          }
        },
        "e2541f96e00b4c79988b545d0db4e677": {
          "model_module": "@jupyter-widgets/base",
          "model_name": "LayoutModel",
          "state": {
            "_view_name": "LayoutView",
            "grid_template_rows": null,
            "right": null,
            "justify_content": null,
            "_view_module": "@jupyter-widgets/base",
            "overflow": null,
            "_model_module_version": "1.2.0",
            "_view_count": null,
            "flex_flow": null,
            "width": null,
            "min_width": null,
            "border": null,
            "align_items": null,
            "bottom": null,
            "_model_module": "@jupyter-widgets/base",
            "top": null,
            "grid_column": null,
            "overflow_y": null,
            "overflow_x": null,
            "grid_auto_flow": null,
            "grid_area": null,
            "grid_template_columns": null,
            "flex": null,
            "_model_name": "LayoutModel",
            "justify_items": null,
            "grid_row": null,
            "max_height": null,
            "align_content": null,
            "visibility": null,
            "align_self": null,
            "height": null,
            "min_height": null,
            "padding": null,
            "grid_auto_rows": null,
            "grid_gap": null,
            "max_width": null,
            "order": null,
            "_view_module_version": "1.2.0",
            "grid_template_areas": null,
            "object_position": null,
            "object_fit": null,
            "grid_auto_columns": null,
            "margin": null,
            "display": null,
            "left": null
          }
        }
      }
    }
  },
  "cells": [
    {
      "cell_type": "code",
      "metadata": {
        "id": "U3CmQC7lt2-Z"
      },
      "source": [
        "import pymorphy2\n",
        "from sklearn.metrics.pairwise import cosine_similarity\n",
        "from sklearn.feature_extraction.text import CountVectorizer\n",
        "from sklearn.feature_extraction.text import TfidfVectorizer\n",
        "import re\n",
        "import razdel\n",
        "import nltk\n",
        "import string\n",
        "from string import punctuation\n",
        "from nltk.corpus import stopwords\n",
        "import wikipedia\n",
        "from razdel import tokenize\n",
        "from sentence_transformers import SentenceTransformer, util"
      ],
      "execution_count": null,
      "outputs": []
    },
    {
      "cell_type": "code",
      "metadata": {
        "id": "c7_nt_xEvLxp"
      },
      "source": [
        "\n",
        "def get_token_sen(page):\n",
        "    start = re.search(r'\\n{3}===? Примечания ===?', page)\n",
        "    start_next = re.search(r'\\n{3}===? Издания ===?', page)\n",
        "    if start is re.Match:\n",
        "      step = start.span()[0]\n",
        "      page = page[:step]\n",
        "    if start_next is re.Match:\n",
        "      step_next = start_next.span()[0]\n",
        "      if start > start_next:\n",
        "        page = page[:start_next]\n",
        "\n",
        "    clean = re.sub('\\n{3}===? [а-яА-ЯЁё0-9 ]+ ===?',' ',page) #[] добавить символы типо -/?\n",
        "    #token\n",
        "    return [_.text for _ in razdel.sentenize(clean)]"
      ],
      "execution_count": null,
      "outputs": []
    },
    {
      "cell_type": "code",
      "metadata": {
        "colab": {
          "base_uri": "https://localhost:8080/",
          "height": 36
        },
        "id": "i4RLpuYM4sr7",
        "outputId": "7175d27c-917b-4487-c23e-19184c3efcb5"
      },
      "source": [
        "import unicodedata\n",
        "\n",
        "def remove_accents(input_str):\n",
        "    nfkd_form = unicodedata.normalize('NFKD', input_str)\n",
        "    return u\"\".join([c for c in nfkd_form if not unicodedata.combining(c)])\n",
        "\n",
        "remove_accents('Алекса́ндр Серге́евич Пу́шкин')"
      ],
      "execution_count": null,
      "outputs": [
        {
          "output_type": "execute_result",
          "data": {
            "application/vnd.google.colaboratory.intrinsic+json": {
              "type": "string"
            },
            "text/plain": [
              "'Александр Сергеевич Пушкин'"
            ]
          },
          "metadata": {
            "tags": []
          },
          "execution_count": 10
        }
      ]
    },
    {
      "cell_type": "code",
      "metadata": {
        "id": "nwxD7qB5uE8u"
      },
      "source": [
        "def token_word_morphy(sen, morph = pymorphy2.MorphAnalyzer()):\n",
        "  return [morph.parse(_.text)[0].normal_form for _ in razdel.tokenize(sen)] "
      ],
      "execution_count": null,
      "outputs": []
    },
    {
      "cell_type": "code",
      "metadata": {
        "id": "AEvSibFpwKmI"
      },
      "source": [
        "def noise():\n",
        "    return (stopwords.words('russian') + list(punctuation + 'IIVVIX«»\\n№́'))"
      ],
      "execution_count": null,
      "outputs": []
    },
    {
      "cell_type": "code",
      "metadata": {
        "id": "hKbCFnEQUWyK"
      },
      "source": [
        "def cosine_sim_2_sen(sen1, sen2, vectorizer = CountVectorizer(tokenizer = token_word_morphy, stop_words = noise())):\n",
        "  lst_sen_score = []\n",
        "  vectorizer = vectorizer.fit_transform([sen1,sen2])\n",
        "  vectors = vectorizer.toarray()\n",
        "  return cosine_similarity(vectors[0].reshape(1,-1), vectors[1].reshape(1,-1))\n",
        "  #return cosine_similarity(vectors)"
      ],
      "execution_count": null,
      "outputs": []
    },
    {
      "cell_type": "code",
      "metadata": {
        "id": "xwBb-Zk5vDOu"
      },
      "source": [
        "# cosine_sim_score считает для каждого предложение из документа косинусное значение между утрвежденим \n",
        "# claim и выводит отсортированный список с наибольшими k-значениями (k=top)\n",
        "# есть другая тф айдф но там тогда утрвеждение и документ подается\n",
        "# claim - str\n",
        "# page - str\n",
        "# min_value - int - косиносное значение, при котором не рассматриваем предложения\n",
        "# top - int - вывод топ k-элементов списка с наибольшим значеним косинуса (в данном случае k=top)\n",
        "def cosine_sim_score(claim, page, min_value = 0, top = None,\\\n",
        "                     vectorizer = TfidfVectorizer(tokenizer = token_word_morphy, stop_words=noise())):\n",
        "  lst_sen_score = []\n",
        "  #if score_for_2_sen == 0:\n",
        "  text = get_token_sen(page)\n",
        "  text = list(map(remove_accents, text))\n",
        "  #return text\n",
        "  #else: text = page\n",
        "  text.insert(0, claim)\n",
        "  #print(len(text))\n",
        "  vectorizer = vectorizer.fit_transform(text)\n",
        "  vectors = vectorizer.toarray()\n",
        "  for i in range(1, len(vectors)):\n",
        "    score = cosine_similarity(vectors[0].reshape(1,-1), vectors[i].reshape(1,-1))\n",
        "    if score > min_value:\n",
        "      lst_sen_score.append([i, text[i], score])\n",
        "  lst_sen_score.sort(key= lambda x: x[2], reverse=True)\n",
        "  if top is not None:\n",
        "    return lst_sen_score[:top]\n",
        "  else: return lst_sen_score"
      ],
      "execution_count": null,
      "outputs": []
    },
    {
      "cell_type": "code",
      "metadata": {
        "id": "B2G6FeFfLZ1V",
        "colab": {
          "base_uri": "https://localhost:8080/",
          "height": 67,
          "referenced_widgets": [
            "7b49970fa38e44069e79982118fe61d6",
            "006710a0e2c843af95df432cd07ed715",
            "80509f6dd38e48a7be0edddee57caf3b",
            "07254c10ed894b38b3d6e8e874b7b2c2",
            "7a090e75d12849caa1ca3e0f6ab186af",
            "614ca22bbe7846148eb61e2876d514e3",
            "acdfe46bde994710b1b541ffecfd3003",
            "e2541f96e00b4c79988b545d0db4e677"
          ]
        },
        "outputId": "defd3489-305a-4a12-b9df-9d2be4b0faf8"
      },
      "source": [
        "#'DeepPavlov/rubert-base-cased'\n",
        "def rubert_cosine_sim_score(claim, page, min_value = 0.24, top = None,\\\n",
        "                            model = SentenceTransformer('distiluse-base-multilingual-cased-v1')):\n",
        "  lst_sen_score = []\n",
        "\n",
        "  text = get_token_sen(page)\n",
        "  text = list(map(remove_accents, text))\n",
        "  text.insert(0, claim)\n",
        "\n",
        "  embeddings = model.encode(text, convert_to_tensor=True)\n",
        "  for i in range(1, len(embeddings)):\n",
        "    score = util.pytorch_cos_sim(embeddings[0], embeddings[i])\n",
        "    #print(text[i], score)\n",
        "    #break\n",
        "    if score > min_value:\n",
        "      lst_sen_score.append([i, text[i], score])\n",
        "  lst_sen_score.sort(key= lambda x: x[2], reverse=True)\n",
        "  if top is not None:\n",
        "    return lst_sen_score[:top]\n",
        "  else: return lst_sen_score"
      ],
      "execution_count": null,
      "outputs": [
        {
          "output_type": "display_data",
          "data": {
            "application/vnd.jupyter.widget-view+json": {
              "model_id": "7b49970fa38e44069e79982118fe61d6",
              "version_minor": 0,
              "version_major": 2
            },
            "text/plain": [
              "HBox(children=(FloatProgress(value=0.0, max=504594086.0), HTML(value='')))"
            ]
          },
          "metadata": {
            "tags": []
          }
        },
        {
          "output_type": "stream",
          "text": [
            "\n"
          ],
          "name": "stdout"
        }
      ]
    },
    {
      "cell_type": "code",
      "metadata": {
        "id": "1g-Yy2mDKIdZ"
      },
      "source": [
        "def top_l_sentences(claim, corpus_articles, top_sen = 15):\n",
        "  wikipedia.set_lang(\"ru\")\n",
        "  lst_sen = []\n",
        "  for article in corpus_articles:\n",
        "    complete_content = wikipedia.page(article)\n",
        "    page = complete_content.content\n",
        "    lst_sen.append(rubert_cosine_sim_score(claim, page, top = top_sen))\n",
        "  return lst_sen"
      ],
      "execution_count": null,
      "outputs": []
    },
    {
      "cell_type": "code",
      "metadata": {
        "colab": {
          "base_uri": "https://localhost:8080/",
          "height": 537
        },
        "id": "-77dL2srO5gP",
        "outputId": "32ba94f8-b2b0-4059-d85f-6f1692d657e6"
      },
      "source": [
        "import plotly\n",
        "import plotly.graph_objs as go\n",
        "import plotly.express as px\n",
        "import matplotlib.pyplot as plt \n",
        "#fig.add_trace(go.Scatter(x=[i for i in range(1,len(y)+1)], y=y))\n",
        "fig = go.Figure()\n",
        "x = ['номер 23','номер 1', 'номер 3', 'номер 40', 'номер 27']\n",
        "fig.add_trace(go.Scatter(x=x, y=score_bert, \n",
        "                         mode='markers+text',\n",
        "                          marker=dict(color=score_bert, colorbar=dict(),colorscale='plasma', size=9)))\n",
        "fig.add_trace(go.Scatter(\n",
        "    x=x,\n",
        "    y=score_bert,\n",
        "    mode='markers+text',\n",
        "    text=arr_bert,\n",
        "    textposition=[\"bottom right\", \"bottom right\",\"top center\",\"bottom left\",\"bottom left\"],\n",
        "    textfont = {'size':9.5} ,\n",
        "    marker=dict(color=score_bert, colorbar=dict(),colorscale='plasma', size=9)\n",
        "\n",
        "))\n",
        "\n",
        "fig.update_layout(\n",
        "                  legend=dict(x=.5, xanchor=\"center\"),\n",
        "                  xaxis_title=\"Номера предложений из статьи\",\n",
        "                  yaxis_title=\"Значение косинусного сходства\",\n",
        "                  width=1200, #1100 tf\n",
        "                  height=500,\n",
        "                  margin=dict(l=0, r=0, t=30, b=0), showlegend = False\n",
        "                  )\n",
        "fig.show()"
      ],
      "execution_count": null,
      "outputs": [
        {
          "output_type": "display_data",
          "data": {
            "text/html": [
              "<html>\n",
              "<head><meta charset=\"utf-8\" /></head>\n",
              "<body>\n",
              "    <div>\n",
              "            <script src=\"https://cdnjs.cloudflare.com/ajax/libs/mathjax/2.7.5/MathJax.js?config=TeX-AMS-MML_SVG\"></script><script type=\"text/javascript\">if (window.MathJax) {MathJax.Hub.Config({SVG: {font: \"STIX-Web\"}});}</script>\n",
              "                <script type=\"text/javascript\">window.PlotlyConfig = {MathJaxConfig: 'local'};</script>\n",
              "        <script src=\"https://cdn.plot.ly/plotly-latest.min.js\"></script>    \n",
              "            <div id=\"1752b72e-8c33-4ce3-bbbf-cd16b5951664\" class=\"plotly-graph-div\" style=\"height:500px; width:1200px;\"></div>\n",
              "            <script type=\"text/javascript\">\n",
              "                \n",
              "                    window.PLOTLYENV=window.PLOTLYENV || {};\n",
              "                    \n",
              "                if (document.getElementById(\"1752b72e-8c33-4ce3-bbbf-cd16b5951664\")) {\n",
              "                    Plotly.newPlot(\n",
              "                        '1752b72e-8c33-4ce3-bbbf-cd16b5951664',\n",
              "                        [{\"marker\": {\"color\": [0.6047, 0.5907, 0.5324, 0.4966, 0.4207], \"colorscale\": [[0.0, \"#0d0887\"], [0.1111111111111111, \"#46039f\"], [0.2222222222222222, \"#7201a8\"], [0.3333333333333333, \"#9c179e\"], [0.4444444444444444, \"#bd3786\"], [0.5555555555555556, \"#d8576b\"], [0.6666666666666666, \"#ed7953\"], [0.7777777777777778, \"#fb9f3a\"], [0.8888888888888888, \"#fdca26\"], [1.0, \"#f0f921\"]], \"size\": 9}, \"mode\": \"markers+text\", \"type\": \"scatter\", \"x\": [\"\\u043d\\u043e\\u043c\\u0435\\u0440 23\", \"\\u043d\\u043e\\u043c\\u0435\\u0440 1\", \"\\u043d\\u043e\\u043c\\u0435\\u0440 3\", \"\\u043d\\u043e\\u043c\\u0435\\u0440 40\", \"\\u043d\\u043e\\u043c\\u0435\\u0440 27\"], \"y\": [0.6047, 0.5907, 0.5324, 0.4966, 0.4207]}, {\"marker\": {\"color\": [0.6047, 0.5907, 0.5324, 0.4966, 0.4207], \"colorscale\": [[0.0, \"#0d0887\"], [0.1111111111111111, \"#46039f\"], [0.2222222222222222, \"#7201a8\"], [0.3333333333333333, \"#9c179e\"], [0.4444444444444444, \"#bd3786\"], [0.5555555555555556, \"#d8576b\"], [0.6666666666666666, \"#ed7953\"], [0.7777777777777778, \"#fb9f3a\"], [0.8888888888888888, \"#fdca26\"], [1.0, \"#f0f921\"]], \"size\": 9}, \"mode\": \"markers+text\", \"text\": [\"\\u0425\\u043e\\u0442\\u044f \\u043f\\u0440\\u043e\\u0438\\u0437\\u0432\\u0435\\u0434\\u0435\\u043d\\u0438\\u044f \\u0410\\u0438\\u043d \\u0420\\u044d\\u043d\\u0434 \\u0443\\u0436\\u0435 \\u0438\\u0437\\u0434\\u0430\\u0432\\u0430\\u043b\\u0438\\u0441\\u044c \\u0440\\u0430\\u043d\\u0435\\u0435, \\u043d\\u0430\\u0438\\u0442\\u0438 \\u0438\\u0437\\u0434\\u0430\\u0442\\u0435\\u043b\\u044f \\u0434\\u043b\\u044f \\u00ab\\u0418\\u0441\\u0442\\u043e\\u0447\\u043d\\u0438\\u043a\\u0430\\u00bb \\u043e\\u043a\\u0430\\u0437\\u0430\\u043b\\u043e\\u0441\\u044c \\u043d\\u0435\\u043f\\u0440\\u043e\\u0441\\u0442\\u043e.\", \"\\u00ab\\u0418\\u0441\\u0442\\u043e\\u0447\\u043d\\u0438\\u043a\\u00bb (\\u0430\\u043d\\u0433\\u043b. The Fountainhead) \\u2014 \\u0440\\u043e\\u043c\\u0430\\u043d \\u0430\\u043c\\u0435\\u0440\\u0438\\u043a\\u0430\\u043d\\u0441\\u043a\\u043e\\u0438 \\u043f\\u0438\\u0441\\u0430\\u0442\\u0435\\u043b\\u044c\\u043d\\u0438\\u0446\\u044b \\u0438 \\u0444\\u0438\\u043b\\u043e\\u0441\\u043e\\u0444\\u0430 \\u0410\\u0438\\u043d \\u0420\\u044d\\u043d\\u0434, \\u0435\\u0435 \\u043f\\u0435\\u0440\\u0432\\u044b\\u0438 \\u043a\\u0440\\u0443\\u043f\\u043d\\u044b\\u0438 \\u043b\\u0438\\u0442\\u0435\\u0440\\u0430\\u0442\\u0443\\u0440\\u043d\\u044b\\u0438 \\u0443\\u0441\\u043f\\u0435\\u0445.\", \"\\u041d\\u0430\\u0440\\u044f\\u0434\\u0443 \\u0441 \\u0440\\u043e\\u043c\\u0430\\u043d\\u043e\\u043c \\u00ab\\u0410\\u0442\\u043b\\u0430\\u043d\\u0442 \\u0440\\u0430\\u0441\\u043f\\u0440\\u0430\\u0432\\u0438\\u043b \\u043f\\u043b\\u0435\\u0447\\u0438\\u00bb (1957 \\u0433\\u043e\\u0434), \\u00ab\\u0418\\u0441\\u0442\\u043e\\u0447\\u043d\\u0438\\u043a\\u00bb \\u0432\\u0445\\u043e\\u0434\\u0438\\u0442 \\u0432 \\u0447\\u0438\\u0441\\u043b\\u043e \\u0441\\u0430\\u043c\\u044b\\u0445 \\u0438\\u0437\\u0432\\u0435\\u0441\\u0442\\u043d\\u044b\\u0445 \\u043f\\u0440\\u043e\\u0438\\u0437\\u0432\\u0435\\u0434\\u0435\\u043d\\u0438\\u0438 \\u0430\\u043c\\u0435\\u0440\\u0438\\u043a\\u0430\\u043d\\u0441\\u043a\\u043e\\u0438 \\u043b\\u0438\\u0442\\u0435\\u0440\\u0430\\u0442\\u0443\\u0440\\u044b.\", \"\\u0412 1971 \\u0433\\u043e\\u0434\\u0443 \\u0432 \\u0447\\u0435\\u0441\\u0442\\u044c 25-\\u043b\\u0435\\u0442\\u0438\\u044f \\u043f\\u0435\\u0440\\u0432\\u043e\\u0438 \\u043f\\u0443\\u0431\\u043b\\u0438\\u043a\\u0430\\u0446\\u0438\\u0438 \\u0440\\u043e\\u043c\\u0430\\u043d\\u0430 \\u0432\\u044b\\u0448\\u043b\\u043e \\u044e\\u0431\\u0438\\u043b\\u0435\\u0438\\u043d\\u043e\\u0435 \\u0438\\u0437\\u0434\\u0430\\u043d\\u0438\\u0435 \\u00ab\\u0418\\u0441\\u0442\\u043e\\u0447\\u043d\\u0438\\u043a\\u0430\\u00bb \\u0441 \\u043d\\u043e\\u0432\\u044b\\u043c \\u043f\\u0440\\u0435\\u0434\\u0438\\u0441\\u043b\\u043e\\u0432\\u0438\\u0435\\u043c \\u0410\\u0438\\u043d \\u0420\\u044d\\u043d\\u0434 (\\u0438\\u0437\\u0434\\u0430\\u0442\\u0435\\u043b\\u044c\\u0441\\u0442\\u0432\\u043e \\u2014 New American Library).\", \"\\u0418\\u0441\\u0442\\u043e\\u0447\\u043d\\u0438\\u043a (\\u043a\\u043e\\u043c\\u043f\\u043b\\u0435\\u043a\\u0442 \\u0438\\u0437 2 \\u043a\\u043d\\u0438\\u0433) = The Fountainhead.\"], \"textfont\": {\"size\": 9.5}, \"textposition\": [\"bottom right\", \"bottom right\", \"top center\", \"bottom left\", \"bottom left\"], \"type\": \"scatter\", \"x\": [\"\\u043d\\u043e\\u043c\\u0435\\u0440 23\", \"\\u043d\\u043e\\u043c\\u0435\\u0440 1\", \"\\u043d\\u043e\\u043c\\u0435\\u0440 3\", \"\\u043d\\u043e\\u043c\\u0435\\u0440 40\", \"\\u043d\\u043e\\u043c\\u0435\\u0440 27\"], \"y\": [0.6047, 0.5907, 0.5324, 0.4966, 0.4207]}],\n",
              "                        {\"height\": 500, \"legend\": {\"x\": 0.5, \"xanchor\": \"center\"}, \"margin\": {\"b\": 0, \"l\": 0, \"r\": 0, \"t\": 30}, \"showlegend\": false, \"template\": {\"data\": {\"bar\": [{\"error_x\": {\"color\": \"#2a3f5f\"}, \"error_y\": {\"color\": \"#2a3f5f\"}, \"marker\": {\"line\": {\"color\": \"#E5ECF6\", \"width\": 0.5}}, \"type\": \"bar\"}], \"barpolar\": [{\"marker\": {\"line\": {\"color\": \"#E5ECF6\", \"width\": 0.5}}, \"type\": \"barpolar\"}], \"carpet\": [{\"aaxis\": {\"endlinecolor\": \"#2a3f5f\", \"gridcolor\": \"white\", \"linecolor\": \"white\", \"minorgridcolor\": \"white\", \"startlinecolor\": \"#2a3f5f\"}, \"baxis\": {\"endlinecolor\": \"#2a3f5f\", \"gridcolor\": \"white\", \"linecolor\": \"white\", \"minorgridcolor\": \"white\", \"startlinecolor\": \"#2a3f5f\"}, \"type\": \"carpet\"}], \"choropleth\": [{\"colorbar\": {\"outlinewidth\": 0, \"ticks\": \"\"}, \"type\": \"choropleth\"}], \"contour\": [{\"colorbar\": {\"outlinewidth\": 0, \"ticks\": \"\"}, \"colorscale\": [[0.0, \"#0d0887\"], [0.1111111111111111, \"#46039f\"], [0.2222222222222222, \"#7201a8\"], [0.3333333333333333, \"#9c179e\"], [0.4444444444444444, \"#bd3786\"], [0.5555555555555556, \"#d8576b\"], [0.6666666666666666, \"#ed7953\"], [0.7777777777777778, \"#fb9f3a\"], [0.8888888888888888, \"#fdca26\"], [1.0, \"#f0f921\"]], \"type\": \"contour\"}], \"contourcarpet\": [{\"colorbar\": {\"outlinewidth\": 0, \"ticks\": \"\"}, \"type\": \"contourcarpet\"}], \"heatmap\": [{\"colorbar\": {\"outlinewidth\": 0, \"ticks\": \"\"}, \"colorscale\": [[0.0, \"#0d0887\"], [0.1111111111111111, \"#46039f\"], [0.2222222222222222, \"#7201a8\"], [0.3333333333333333, \"#9c179e\"], [0.4444444444444444, \"#bd3786\"], [0.5555555555555556, \"#d8576b\"], [0.6666666666666666, \"#ed7953\"], [0.7777777777777778, \"#fb9f3a\"], [0.8888888888888888, \"#fdca26\"], [1.0, \"#f0f921\"]], \"type\": \"heatmap\"}], \"heatmapgl\": [{\"colorbar\": {\"outlinewidth\": 0, \"ticks\": \"\"}, \"colorscale\": [[0.0, \"#0d0887\"], [0.1111111111111111, \"#46039f\"], [0.2222222222222222, \"#7201a8\"], [0.3333333333333333, \"#9c179e\"], [0.4444444444444444, \"#bd3786\"], [0.5555555555555556, \"#d8576b\"], [0.6666666666666666, \"#ed7953\"], [0.7777777777777778, \"#fb9f3a\"], [0.8888888888888888, \"#fdca26\"], [1.0, \"#f0f921\"]], \"type\": \"heatmapgl\"}], \"histogram\": [{\"marker\": {\"colorbar\": {\"outlinewidth\": 0, \"ticks\": \"\"}}, \"type\": \"histogram\"}], \"histogram2d\": [{\"colorbar\": {\"outlinewidth\": 0, \"ticks\": \"\"}, \"colorscale\": [[0.0, \"#0d0887\"], [0.1111111111111111, \"#46039f\"], [0.2222222222222222, \"#7201a8\"], [0.3333333333333333, \"#9c179e\"], [0.4444444444444444, \"#bd3786\"], [0.5555555555555556, \"#d8576b\"], [0.6666666666666666, \"#ed7953\"], [0.7777777777777778, \"#fb9f3a\"], [0.8888888888888888, \"#fdca26\"], [1.0, \"#f0f921\"]], \"type\": \"histogram2d\"}], \"histogram2dcontour\": [{\"colorbar\": {\"outlinewidth\": 0, \"ticks\": \"\"}, \"colorscale\": [[0.0, \"#0d0887\"], [0.1111111111111111, \"#46039f\"], [0.2222222222222222, \"#7201a8\"], [0.3333333333333333, \"#9c179e\"], [0.4444444444444444, \"#bd3786\"], [0.5555555555555556, \"#d8576b\"], [0.6666666666666666, \"#ed7953\"], [0.7777777777777778, \"#fb9f3a\"], [0.8888888888888888, \"#fdca26\"], [1.0, \"#f0f921\"]], \"type\": \"histogram2dcontour\"}], \"mesh3d\": [{\"colorbar\": {\"outlinewidth\": 0, \"ticks\": \"\"}, \"type\": \"mesh3d\"}], \"parcoords\": [{\"line\": {\"colorbar\": {\"outlinewidth\": 0, \"ticks\": \"\"}}, \"type\": \"parcoords\"}], \"pie\": [{\"automargin\": true, \"type\": \"pie\"}], \"scatter\": [{\"marker\": {\"colorbar\": {\"outlinewidth\": 0, \"ticks\": \"\"}}, \"type\": \"scatter\"}], \"scatter3d\": [{\"line\": {\"colorbar\": {\"outlinewidth\": 0, \"ticks\": \"\"}}, \"marker\": {\"colorbar\": {\"outlinewidth\": 0, \"ticks\": \"\"}}, \"type\": \"scatter3d\"}], \"scattercarpet\": [{\"marker\": {\"colorbar\": {\"outlinewidth\": 0, \"ticks\": \"\"}}, \"type\": \"scattercarpet\"}], \"scattergeo\": [{\"marker\": {\"colorbar\": {\"outlinewidth\": 0, \"ticks\": \"\"}}, \"type\": \"scattergeo\"}], \"scattergl\": [{\"marker\": {\"colorbar\": {\"outlinewidth\": 0, \"ticks\": \"\"}}, \"type\": \"scattergl\"}], \"scattermapbox\": [{\"marker\": {\"colorbar\": {\"outlinewidth\": 0, \"ticks\": \"\"}}, \"type\": \"scattermapbox\"}], \"scatterpolar\": [{\"marker\": {\"colorbar\": {\"outlinewidth\": 0, \"ticks\": \"\"}}, \"type\": \"scatterpolar\"}], \"scatterpolargl\": [{\"marker\": {\"colorbar\": {\"outlinewidth\": 0, \"ticks\": \"\"}}, \"type\": \"scatterpolargl\"}], \"scatterternary\": [{\"marker\": {\"colorbar\": {\"outlinewidth\": 0, \"ticks\": \"\"}}, \"type\": \"scatterternary\"}], \"surface\": [{\"colorbar\": {\"outlinewidth\": 0, \"ticks\": \"\"}, \"colorscale\": [[0.0, \"#0d0887\"], [0.1111111111111111, \"#46039f\"], [0.2222222222222222, \"#7201a8\"], [0.3333333333333333, \"#9c179e\"], [0.4444444444444444, \"#bd3786\"], [0.5555555555555556, \"#d8576b\"], [0.6666666666666666, \"#ed7953\"], [0.7777777777777778, \"#fb9f3a\"], [0.8888888888888888, \"#fdca26\"], [1.0, \"#f0f921\"]], \"type\": \"surface\"}], \"table\": [{\"cells\": {\"fill\": {\"color\": \"#EBF0F8\"}, \"line\": {\"color\": \"white\"}}, \"header\": {\"fill\": {\"color\": \"#C8D4E3\"}, \"line\": {\"color\": \"white\"}}, \"type\": \"table\"}]}, \"layout\": {\"annotationdefaults\": {\"arrowcolor\": \"#2a3f5f\", \"arrowhead\": 0, \"arrowwidth\": 1}, \"coloraxis\": {\"colorbar\": {\"outlinewidth\": 0, \"ticks\": \"\"}}, \"colorscale\": {\"diverging\": [[0, \"#8e0152\"], [0.1, \"#c51b7d\"], [0.2, \"#de77ae\"], [0.3, \"#f1b6da\"], [0.4, \"#fde0ef\"], [0.5, \"#f7f7f7\"], [0.6, \"#e6f5d0\"], [0.7, \"#b8e186\"], [0.8, \"#7fbc41\"], [0.9, \"#4d9221\"], [1, \"#276419\"]], \"sequential\": [[0.0, \"#0d0887\"], [0.1111111111111111, \"#46039f\"], [0.2222222222222222, \"#7201a8\"], [0.3333333333333333, \"#9c179e\"], [0.4444444444444444, \"#bd3786\"], [0.5555555555555556, \"#d8576b\"], [0.6666666666666666, \"#ed7953\"], [0.7777777777777778, \"#fb9f3a\"], [0.8888888888888888, \"#fdca26\"], [1.0, \"#f0f921\"]], \"sequentialminus\": [[0.0, \"#0d0887\"], [0.1111111111111111, \"#46039f\"], [0.2222222222222222, \"#7201a8\"], [0.3333333333333333, \"#9c179e\"], [0.4444444444444444, \"#bd3786\"], [0.5555555555555556, \"#d8576b\"], [0.6666666666666666, \"#ed7953\"], [0.7777777777777778, \"#fb9f3a\"], [0.8888888888888888, \"#fdca26\"], [1.0, \"#f0f921\"]]}, \"colorway\": [\"#636efa\", \"#EF553B\", \"#00cc96\", \"#ab63fa\", \"#FFA15A\", \"#19d3f3\", \"#FF6692\", \"#B6E880\", \"#FF97FF\", \"#FECB52\"], \"font\": {\"color\": \"#2a3f5f\"}, \"geo\": {\"bgcolor\": \"white\", \"lakecolor\": \"white\", \"landcolor\": \"#E5ECF6\", \"showlakes\": true, \"showland\": true, \"subunitcolor\": \"white\"}, \"hoverlabel\": {\"align\": \"left\"}, \"hovermode\": \"closest\", \"mapbox\": {\"style\": \"light\"}, \"paper_bgcolor\": \"white\", \"plot_bgcolor\": \"#E5ECF6\", \"polar\": {\"angularaxis\": {\"gridcolor\": \"white\", \"linecolor\": \"white\", \"ticks\": \"\"}, \"bgcolor\": \"#E5ECF6\", \"radialaxis\": {\"gridcolor\": \"white\", \"linecolor\": \"white\", \"ticks\": \"\"}}, \"scene\": {\"xaxis\": {\"backgroundcolor\": \"#E5ECF6\", \"gridcolor\": \"white\", \"gridwidth\": 2, \"linecolor\": \"white\", \"showbackground\": true, \"ticks\": \"\", \"zerolinecolor\": \"white\"}, \"yaxis\": {\"backgroundcolor\": \"#E5ECF6\", \"gridcolor\": \"white\", \"gridwidth\": 2, \"linecolor\": \"white\", \"showbackground\": true, \"ticks\": \"\", \"zerolinecolor\": \"white\"}, \"zaxis\": {\"backgroundcolor\": \"#E5ECF6\", \"gridcolor\": \"white\", \"gridwidth\": 2, \"linecolor\": \"white\", \"showbackground\": true, \"ticks\": \"\", \"zerolinecolor\": \"white\"}}, \"shapedefaults\": {\"line\": {\"color\": \"#2a3f5f\"}}, \"ternary\": {\"aaxis\": {\"gridcolor\": \"white\", \"linecolor\": \"white\", \"ticks\": \"\"}, \"baxis\": {\"gridcolor\": \"white\", \"linecolor\": \"white\", \"ticks\": \"\"}, \"bgcolor\": \"#E5ECF6\", \"caxis\": {\"gridcolor\": \"white\", \"linecolor\": \"white\", \"ticks\": \"\"}}, \"title\": {\"x\": 0.05}, \"xaxis\": {\"automargin\": true, \"gridcolor\": \"white\", \"linecolor\": \"white\", \"ticks\": \"\", \"title\": {\"standoff\": 15}, \"zerolinecolor\": \"white\", \"zerolinewidth\": 2}, \"yaxis\": {\"automargin\": true, \"gridcolor\": \"white\", \"linecolor\": \"white\", \"ticks\": \"\", \"title\": {\"standoff\": 15}, \"zerolinecolor\": \"white\", \"zerolinewidth\": 2}}}, \"width\": 1200, \"xaxis\": {\"title\": {\"text\": \"\\u041d\\u043e\\u043c\\u0435\\u0440\\u0430 \\u043f\\u0440\\u0435\\u0434\\u043b\\u043e\\u0436\\u0435\\u043d\\u0438\\u0439 \\u0438\\u0437 \\u0441\\u0442\\u0430\\u0442\\u044c\\u0438\"}}, \"yaxis\": {\"title\": {\"text\": \"\\u0417\\u043d\\u0430\\u0447\\u0435\\u043d\\u0438\\u0435 \\u043a\\u043e\\u0441\\u0438\\u043d\\u0443\\u0441\\u043d\\u043e\\u0433\\u043e \\u0441\\u0445\\u043e\\u0434\\u0441\\u0442\\u0432\\u0430\"}}},\n",
              "                        {\"responsive\": true}\n",
              "                    ).then(function(){\n",
              "                            \n",
              "var gd = document.getElementById('1752b72e-8c33-4ce3-bbbf-cd16b5951664');\n",
              "var x = new MutationObserver(function (mutations, observer) {{\n",
              "        var display = window.getComputedStyle(gd).display;\n",
              "        if (!display || display === 'none') {{\n",
              "            console.log([gd, 'removed!']);\n",
              "            Plotly.purge(gd);\n",
              "            observer.disconnect();\n",
              "        }}\n",
              "}});\n",
              "\n",
              "// Listen for the removal of the full notebook cells\n",
              "var notebookContainer = gd.closest('#notebook-container');\n",
              "if (notebookContainer) {{\n",
              "    x.observe(notebookContainer, {childList: true});\n",
              "}}\n",
              "\n",
              "// Listen for the clearing of the current output cell\n",
              "var outputEl = gd.closest('.output');\n",
              "if (outputEl) {{\n",
              "    x.observe(outputEl, {childList: true});\n",
              "}}\n",
              "\n",
              "                        })\n",
              "                };\n",
              "                \n",
              "            </script>\n",
              "        </div>\n",
              "</body>\n",
              "</html>"
            ]
          },
          "metadata": {
            "tags": []
          }
        }
      ]
    }
  ]
}